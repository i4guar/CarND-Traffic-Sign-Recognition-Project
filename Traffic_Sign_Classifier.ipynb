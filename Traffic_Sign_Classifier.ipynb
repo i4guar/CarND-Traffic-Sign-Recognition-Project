{
 "cells": [
  {
   "cell_type": "markdown",
   "metadata": {},
   "source": [
    "# Self-Driving Car Engineer Nanodegree\n",
    "\n",
    "## Deep Learning\n",
    "\n",
    "## Project: Build a Traffic Sign Recognition Classifier\n",
    "\n",
    "In this notebook, the template provided by udacity for the Traffic sign recognition project has been filled out."
   ]
  },
  {
   "cell_type": "code",
   "execution_count": 1,
   "metadata": {},
   "outputs": [],
   "source": [
    "# import\n",
    "import numpy as np"
   ]
  },
  {
   "cell_type": "markdown",
   "metadata": {},
   "source": [
    "---\n",
    "## Step 0: Load The Data"
   ]
  },
  {
   "cell_type": "code",
   "execution_count": 2,
   "metadata": {},
   "outputs": [],
   "source": [
    "# Load pickled data\n",
    "import pickle\n",
    "\n",
    "# TODO: Fill this in based on where you saved the training and testing data\n",
    "\n",
    "# data file location\n",
    "training_file = '../data/train.p'\n",
    "validation_file= '../data/valid.p'\n",
    "testing_file = '../data/test.p'\n",
    "\n",
    "# load pickle data\n",
    "with open(training_file, mode='rb') as f:\n",
    "    train = pickle.load(f)\n",
    "with open(validation_file, mode='rb') as f:\n",
    "    valid = pickle.load(f)\n",
    "with open(testing_file, mode='rb') as f:\n",
    "    test = pickle.load(f)\n",
    "    \n",
    "# seperate features and labels\n",
    "X_train, y_train = train['features'], train['labels']\n",
    "X_valid, y_valid = valid['features'], valid['labels']\n",
    "X_test, y_test = test['features'], test['labels']"
   ]
  },
  {
   "cell_type": "markdown",
   "metadata": {},
   "source": [
    "---\n",
    "\n",
    "## Step 1: Dataset Summary & Exploration\n",
    "\n",
    "The pickled data is a dictionary with 4 key/value pairs:\n",
    "\n",
    "- `'features'` is a 4D array containing raw pixel data of the traffic sign images, (num examples, width, height, channels).\n",
    "- `'labels'` is a 1D array containing the label/class id of the traffic sign. The file `signnames.csv` contains id -> name mappings for each id.\n",
    "- `'sizes'` is a list containing tuples, (width, height) representing the original width and height the image.\n",
    "- `'coords'` is a list containing tuples, (x1, y1, x2, y2) representing coordinates of a bounding box around the sign in the image. **THESE COORDINATES ASSUME THE ORIGINAL IMAGE. THE PICKLED DATA CONTAINS RESIZED VERSIONS (32 by 32) OF THESE IMAGES**\n",
    "\n",
    "Complete the basic data summary below. Use python, numpy and/or pandas methods to calculate the data summary rather than hard coding the results. For example, the [pandas shape method](http://pandas.pydata.org/pandas-docs/stable/generated/pandas.DataFrame.shape.html) might be useful for calculating some of the summary results. "
   ]
  },
  {
   "cell_type": "markdown",
   "metadata": {},
   "source": [
    "### Provide a Basic Summary of the Data Set Using Python, Numpy and/or Pandas"
   ]
  },
  {
   "cell_type": "code",
   "execution_count": 3,
   "metadata": {},
   "outputs": [
    {
     "name": "stdout",
     "output_type": "stream",
     "text": [
      "Number of training examples = 34799\n",
      "Number of validation examples = 4410\n",
      "Number of testing examples = 12630\n",
      "Image data shape = (32, 32, 3)\n",
      "Number of classes = 43\n"
     ]
    }
   ],
   "source": [
    "# Number of training examples\n",
    "n_train = len(X_train)\n",
    "\n",
    "# Number of validation examples\n",
    "n_validation = len(X_valid)\n",
    "\n",
    "# Number of testing examples\n",
    "n_test = len(X_test)\n",
    "\n",
    "# Shape of an traffic sign image\n",
    "image_shape = (X_train[0].shape)\n",
    "\n",
    "# Number of unique classes/labels there are in the dataset\n",
    "n_classes = len(set(y_train))\n",
    "\n",
    "print(\"Number of training examples =\", n_train)\n",
    "print(\"Number of validation examples =\", n_validation)\n",
    "print(\"Number of testing examples =\", n_test)\n",
    "print(\"Image data shape =\", image_shape)\n",
    "print(\"Number of classes =\", n_classes)"
   ]
  },
  {
   "cell_type": "markdown",
   "metadata": {},
   "source": [
    "### Include an exploratory visualization of the dataset"
   ]
  },
  {
   "cell_type": "markdown",
   "metadata": {},
   "source": [
    "Visualize the German Traffic Signs Dataset using the pickled file(s). This is open ended, suggestions include: plotting traffic sign images, plotting the count of each sign, etc. \n",
    "\n",
    "The [Matplotlib](http://matplotlib.org/) [examples](http://matplotlib.org/examples/index.html) and [gallery](http://matplotlib.org/gallery.html) pages are a great resource for doing visualizations in Python."
   ]
  },
  {
   "cell_type": "code",
   "execution_count": 4,
   "metadata": {},
   "outputs": [
    {
     "name": "stdout",
     "output_type": "stream",
     "text": [
      "Max color value  255\n",
      "Min color value  0\n",
      "Label image  0 :  38\n",
      "Label image  1 :  13\n",
      "Label image  2 :  1\n"
     ]
    },
    {
     "data": {
      "image/png": "[encoded data removed]",
      "text/plain": [
       "<matplotlib.figure.Figure at 0x7f6d6deeb550>"
      ]
     },
     "metadata": {
      "needs_background": "light"
     },
     "output_type": "display_data"
    },
    {
     "data": {
      "image/png": "[encoded data removed]",
      "text/plain": [
       "<matplotlib.figure.Figure at 0x7f6d6be7e4e0>"
      ]
     },
     "metadata": {
      "needs_background": "light"
     },
     "output_type": "display_data"
    },
    {
     "data": {
      "image/png": "[encoded data removed]",
      "text/plain": [
       "<matplotlib.figure.Figure at 0x7f6d6be412e8>"
      ]
     },
     "metadata": {
      "needs_background": "light"
     },
     "output_type": "display_data"
    }
   ],
   "source": [
    "### Data exploration visualization code goes here.\n",
    "### Feel free to use as many code cells as needed.\n",
    "import matplotlib.pyplot as plt\n",
    "import random\n",
    "import pandas as pd\n",
    "# Visualizations will be shown in the notebook.\n",
    "%matplotlib inline\n",
    "\n",
    "\n",
    "# Information for normalization\n",
    "# max feature value\n",
    "print(\"Max color value \", np.max(X_train))\n",
    "# min feature value\n",
    "print(\"Min color value \", np.min(X_train))\n",
    "\n",
    "# view 3 example signs\n",
    "for i in range(3):\n",
    "    index = random.randint(0,len(X_train))\n",
    "    image = X_train[index]\n",
    "\n",
    "    plt.figure(figsize=(3,3))\n",
    "    plt.imshow(image, cmap=\"gray\")\n",
    "    print(\"Label image \", i , \": \", y_train[index])\n"
   ]
  },
  {
   "cell_type": "code",
   "execution_count": 5,
   "metadata": {},
   "outputs": [
    {
     "data": {
      "image/png": "[encoded data removed]",
      "text/plain": [
       "<matplotlib.figure.Figure at 0x7f6d6bdda0f0>"
      ]
     },
     "metadata": {
      "needs_background": "light"
     },
     "output_type": "display_data"
    },
    {
     "data": {
      "image/png": "[encoded data removed]",
      "text/plain": [
       "<matplotlib.figure.Figure at 0x7f6d6be5f860>"
      ]
     },
     "metadata": {
      "needs_background": "light"
     },
     "output_type": "display_data"
    }
   ],
   "source": [
    "plt.figure(figsize=(16,8))\n",
    "pd.Index(y_train).value_counts().plot(kind='bar', title=\"Count of each label in training set, sorted by occurence\")\n",
    "plt.savefig('./training_set_vis.jpg')\n",
    "\n",
    "plt.figure(figsize=(16,8))\n",
    "pd.Index(y_test).value_counts().plot(kind='bar', title=\"Count of each label in test set, sorted by occurence\")\n",
    "plt.savefig('./test_set_vis.jpg')\n",
    "\n",
    "\n",
    "\n",
    "# frequency of signs seem to be more or less evenly distributed among these two sets"
   ]
  },
  {
   "cell_type": "markdown",
   "metadata": {},
   "source": [
    "----\n",
    "\n",
    "## Step 2: Design and Test a Model Architecture\n",
    "\n",
    "Design and implement a deep learning model that learns to recognize traffic signs. Train and test your model on the [German Traffic Sign Dataset](http://benchmark.ini.rub.de/?section=gtsrb&subsection=dataset).\n",
    "\n",
    "The LeNet-5 implementation shown in the [classroom](https://classroom.udacity.com/nanodegrees/nd013/parts/fbf77062-5703-404e-b60c-95b78b2f3f9e/modules/6df7ae49-c61c-4bb2-a23e-6527e69209ec/lessons/601ae704-1035-4287-8b11-e2c2716217ad/concepts/d4aca031-508f-4e0b-b493-e7b706120f81) at the end of the CNN lesson is a solid starting point. You'll have to change the number of classes and possibly the preprocessing, but aside from that it's plug and play! \n",
    "\n",
    "With the LeNet-5 solution from the lecture, you should expect a validation set accuracy of about 0.89. To meet specifications, the validation set accuracy will need to be at least 0.93. It is possible to get an even higher accuracy, but 0.93 is the minimum for a successful project submission. \n",
    "\n",
    "There are various aspects to consider when thinking about this problem:\n",
    "\n",
    "- Neural network architecture (is the network over or underfitting?)\n",
    "- Play around preprocessing techniques (normalization, rgb to grayscale, etc)\n",
    "- Number of examples per label (some have more than others).\n",
    "- Generate fake data.\n",
    "\n",
    "Here is an example of a [published baseline model on this problem](http://yann.lecun.com/exdb/publis/pdf/sermanet-ijcnn-11.pdf). It's not required to be familiar with the approach used in the paper but, it's good practice to try to read papers like these."
   ]
  },
  {
   "cell_type": "markdown",
   "metadata": {},
   "source": [
    "### Pre-process the Data Set (normalization, grayscale, etc.)"
   ]
  },
  {
   "cell_type": "markdown",
   "metadata": {},
   "source": [
    "Minimally, the image data should be normalized so that the data has mean zero and equal variance. For image data, `(pixel - 128)/ 128` is a quick way to approximately normalize the data and can be used in this project. \n",
    "\n",
    "Other pre-processing steps are optional. You can try different techniques to see if it improves performance. \n",
    "\n",
    "Use the code cell (or multiple code cells, if necessary) to implement the first step of your project."
   ]
  },
  {
   "cell_type": "code",
   "execution_count": 6,
   "metadata": {},
   "outputs": [],
   "source": [
    "### Preprocess the data here. It is required to normalize the data. Other preprocessing steps could include \n",
    "### converting to grayscale, etc.\n",
    "### Feel free to use as many code cells as needed.\n",
    "\n",
    "# normalization of images\n",
    "def normalization(image_batch):\n",
    "    return (image_batch-128)/128\n",
    "\n",
    "# Preprocessing of images, normalization and greyscale\n",
    "def preprocessing(image_batch):\n",
    "    # greyscale\n",
    "    image_batch = np.expand_dims(np.mean(image_batch, axis=3),axis=3)\n",
    "    return normalization(image_batch)\n",
    "\n",
    "\n",
    "X_train = preprocessing(X_train)\n",
    "X_valid = preprocessing(X_valid)\n",
    "X_test = preprocessing(X_test)\n",
    "\n",
    "# update image shape\n",
    "image_shape = X_train[0].shape\n",
    "\n",
    "\n",
    "\n"
   ]
  },
  {
   "cell_type": "markdown",
   "metadata": {},
   "source": [
    "### Model Architecture"
   ]
  },
  {
   "cell_type": "code",
   "execution_count": 7,
   "metadata": {},
   "outputs": [],
   "source": [
    "import tensorflow as tf\n",
    "from tensorflow.contrib.layers import flatten\n",
    "\n",
    "\n",
    "### Define your architecture here.\n",
    "\n",
    "# convolutional layer with relu activation function\n",
    "def conv2d(x, W, b, strides=1):\n",
    "    x = tf.nn.conv2d(x, W, strides=[1, strides, strides, 1], padding='VALID')\n",
    "    return tf.nn.relu(x + b)\n",
    "\n",
    "# Max pooling layer with default kernel size of 2\n",
    "def maxpool2d(x, k=2):\n",
    "    return tf.nn.max_pool(\n",
    "        x,\n",
    "        ksize=[1, k, k, 1],\n",
    "        strides=[1, k, k, 1],\n",
    "        padding='SAME')\n",
    "\n",
    "# fully connected layer with relu activation\n",
    "def fully_connected_relu(x, W, b):\n",
    "    x = fully_connected(x, W, b)\n",
    "    x = tf.nn.relu(x)\n",
    "    return x\n",
    "\n",
    "# fully connected layer\n",
    "def fully_connected(x, W, b):\n",
    "    return tf.matmul(x, W) + b\n",
    "\n",
    "# LeNet architecture\n",
    "def LeNet(x, output_size):    \n",
    "    mu = 0\n",
    "    sigma = 0.1\n",
    "    \n",
    "    # Input = 32x32x3. Output = 28x28x10.\n",
    "    conv1 = conv2d(x, tf.Variable(tf.truncated_normal([5,5,x.shape.as_list()[-1],10], mean = mu, stddev = sigma)), tf.Variable(tf.zeros([10])))\n",
    "    # Input = 28x28x10. Output = 14x14x10.\n",
    "    max_pool1 = maxpool2d(conv1)\n",
    "    # Input = 14x14x10. Output = 10x10x16.\n",
    "    conv2 = conv2d(max_pool1, tf.Variable(tf.truncated_normal([5,5,10,16], mean = mu, stddev = sigma)), tf.Variable(tf.zeros([16])))\n",
    "    # Input = 10x10x16. Output = 6x6x64.\n",
    "    conv3 = conv2d(conv2, tf.Variable(tf.truncated_normal([5,5,16,64], mean = mu, stddev = sigma)), tf.Variable(tf.zeros([64])))\n",
    "    # Input = 6x6x64. Output = 3x3x64.\n",
    "    max_pool2 = maxpool2d(conv3)\n",
    "    # Flatten. Input = 3x3x64. Output = 576.\n",
    "    flat = flatten(max_pool2)\n",
    "    # Input = 576. Output = 120.\n",
    "    full_con1 = fully_connected_relu(flat, tf.Variable(tf.truncated_normal([576,120], mean = mu, stddev = sigma)), tf.Variable(tf.zeros([120])) )\n",
    "    drop1 = tf.nn.dropout(full_con1,keeprate)\n",
    "    # Input = 120. Output = 84.\n",
    "    full_con2 = fully_connected_relu(drop1, tf.Variable(tf.truncated_normal([120,84], mean = mu, stddev = sigma)), tf.Variable(tf.zeros([84])) )\n",
    "    drop2 = tf.nn.dropout(full_con2,keeprate)\n",
    "    # Input = 84. Output = 43.\n",
    "    logits = fully_connected(drop2, tf.Variable(tf.truncated_normal([84,output_size], mean = mu, stddev = sigma)), tf.Variable(tf.zeros([output_size])) )\n",
    "    return logits"
   ]
  },
  {
   "cell_type": "code",
   "execution_count": 8,
   "metadata": {},
   "outputs": [],
   "source": [
    "\n",
    "EPOCHS = 15\n",
    "BATCH_SIZE = 128\n",
    "\n",
    "x = tf.placeholder(tf.float32, (None, image_shape[0], image_shape[1], image_shape[2]))\n",
    "y = tf.placeholder(tf.int32, (None))\n",
    "keeprate = tf.placeholder(tf.float32)\n",
    "keeprate_train = 0.7\n",
    "keeprate_valid = 1.0\n",
    "one_hot_y = tf.one_hot(y, n_classes)\n",
    "\n",
    "rate = 0.0025\n",
    "\n",
    "# create LeNet model\n",
    "logits = LeNet(x, n_classes)\n",
    "# calc cross entropy \n",
    "cross_entropy = tf.nn.softmax_cross_entropy_with_logits(labels=one_hot_y, logits=logits)\n",
    "# mean of cross entropy as loss function\n",
    "loss_operation = tf.reduce_mean(cross_entropy)\n",
    "# adam optimizer with learning rate defined above\n",
    "optimizer = tf.train.AdamOptimizer(learning_rate = rate)\n",
    "# minimize the loss\n",
    "training_operation = optimizer.minimize(loss_operation)"
   ]
  },
  {
   "cell_type": "markdown",
   "metadata": {},
   "source": [
    "### Train, Validate and Test the Model"
   ]
  },
  {
   "cell_type": "markdown",
   "metadata": {},
   "source": [
    "A validation set can be used to assess how well the model is performing. A low accuracy on the training and validation\n",
    "sets imply underfitting. A high accuracy on the training set but low accuracy on the validation set implies overfitting."
   ]
  },
  {
   "cell_type": "code",
   "execution_count": 9,
   "metadata": {},
   "outputs": [],
   "source": [
    "### Train your model here.\n",
    "### Calculate and report the accuracy on the training and validation set.\n",
    "### Once a final model architecture is selected, \n",
    "### the accuracy on the test set should be calculated and reported as well.\n",
    "### Feel free to use as many code cells as needed.\n",
    "\n",
    "\n",
    "# calc prediction\n",
    "correct_prediction = tf.equal(tf.argmax(logits, 1), tf.argmax(one_hot_y, 1))\n",
    "# calc softmax\n",
    "softmax_pred = tf.nn.softmax(logits)\n",
    "# calc accuracy\n",
    "accuracy_operation = tf.reduce_mean(tf.cast(correct_prediction, tf.float32))\n",
    "\n",
    "# evaluate data set\n",
    "def evaluate(X_data, y_data):\n",
    "    # size of dataset\n",
    "    num_examples = len(X_data)\n",
    "    total_accuracy = 0\n",
    "    sess = tf.get_default_session()\n",
    "    # evaluate in mini-batches\n",
    "    for offset in range(0, num_examples, BATCH_SIZE):\n",
    "        batch_x, batch_y = X_data[offset:offset+BATCH_SIZE], y_data[offset:offset+BATCH_SIZE]\n",
    "        accuracy = sess.run(accuracy_operation, feed_dict={x: batch_x, y: batch_y, keeprate: keeprate_valid})\n",
    "        total_accuracy += (accuracy * len(batch_x))\n",
    "    return total_accuracy / num_examples\n",
    "\n"
   ]
  },
  {
   "cell_type": "code",
   "execution_count": 10,
   "metadata": {},
   "outputs": [
    {
     "name": "stdout",
     "output_type": "stream",
     "text": [
      "Training...\n",
      "\n",
      "Training Accuracy = 0.937\n",
      "EPOCH 1 ...\n",
      "Validation Accuracy = 0.900\n",
      "\n",
      "Training Accuracy = 0.971\n",
      "EPOCH 2 ...\n",
      "Validation Accuracy = 0.930\n",
      "\n",
      "Training Accuracy = 0.987\n",
      "EPOCH 3 ...\n",
      "Validation Accuracy = 0.956\n",
      "\n",
      "Training Accuracy = 0.987\n",
      "EPOCH 4 ...\n",
      "Validation Accuracy = 0.951\n",
      "\n",
      "Training Accuracy = 0.991\n",
      "EPOCH 5 ...\n",
      "Validation Accuracy = 0.955\n",
      "\n",
      "Training Accuracy = 0.995\n",
      "EPOCH 6 ...\n",
      "Validation Accuracy = 0.965\n",
      "\n",
      "Training Accuracy = 0.995\n",
      "EPOCH 7 ...\n",
      "Validation Accuracy = 0.969\n",
      "\n",
      "Training Accuracy = 0.994\n",
      "EPOCH 8 ...\n",
      "Validation Accuracy = 0.964\n",
      "\n",
      "Training Accuracy = 0.996\n",
      "EPOCH 9 ...\n",
      "Validation Accuracy = 0.966\n",
      "\n",
      "Training Accuracy = 0.996\n",
      "EPOCH 10 ...\n",
      "Validation Accuracy = 0.969\n",
      "\n",
      "Training Accuracy = 0.998\n",
      "EPOCH 11 ...\n",
      "Validation Accuracy = 0.971\n",
      "\n",
      "Training Accuracy = 0.998\n",
      "EPOCH 12 ...\n",
      "Validation Accuracy = 0.965\n",
      "\n",
      "Training Accuracy = 0.997\n",
      "EPOCH 13 ...\n",
      "Validation Accuracy = 0.973\n",
      "\n",
      "Training Accuracy = 0.997\n",
      "EPOCH 14 ...\n",
      "Validation Accuracy = 0.962\n",
      "\n",
      "Training Accuracy = 0.998\n",
      "EPOCH 15 ...\n",
      "Validation Accuracy = 0.972\n",
      "\n",
      "Model saved\n"
     ]
    }
   ],
   "source": [
    "from sklearn.utils import shuffle\n",
    "\n",
    "saver = tf.train.Saver()\n",
    "\n",
    "# train model\n",
    "with tf.Session() as sess:\n",
    "    sess.run(tf.global_variables_initializer())\n",
    "    num_examples = len(X_train)\n",
    "    \n",
    "    print(\"Training...\")\n",
    "    print()\n",
    "    for i in range(EPOCHS):\n",
    "        X_train, y_train = shuffle(X_train, y_train)\n",
    "        for offset in range(0, num_examples, BATCH_SIZE):\n",
    "            end = offset + BATCH_SIZE\n",
    "            batch_x, batch_y = X_train[offset:end], y_train[offset:end]\n",
    "            sess.run(training_operation, feed_dict={x: batch_x, y: batch_y, keeprate: keeprate_train})\n",
    "        training_acc = evaluate(X_train, y_train)\n",
    "        print(\"Training Accuracy = {:.3f}\".format(training_acc))\n",
    "        validation_accuracy = evaluate(X_valid, y_valid)\n",
    "        print(\"EPOCH {} ...\".format(i+1))\n",
    "        print(\"Validation Accuracy = {:.3f}\".format(validation_accuracy))\n",
    "        print()\n",
    "        \n",
    "    saver.save(sess, './lenet_traffic_signs')\n",
    "    print(\"Model saved\")"
   ]
  },
  {
   "cell_type": "code",
   "execution_count": 11,
   "metadata": {},
   "outputs": [
    {
     "name": "stdout",
     "output_type": "stream",
     "text": [
      "INFO:tensorflow:Restoring parameters from ./lenet_traffic_signs\n",
      "Test Accuracy = 0.953\n"
     ]
    }
   ],
   "source": [
    "saver = tf.train.Saver()\n",
    "\n",
    "\n",
    "# test model\n",
    "with tf.Session() as sess:\n",
    "    saver.restore(sess, './lenet_traffic_signs')\n",
    "    test_accuracy = evaluate(X_test, y_test)\n",
    "    print(\"Test Accuracy = {:.3f}\".format(test_accuracy))\n"
   ]
  },
  {
   "cell_type": "markdown",
   "metadata": {},
   "source": [
    "---\n",
    "\n",
    "## Step 3: Test a Model on New Images\n",
    "\n",
    "To give yourself more insight into how your model is working, download at least five pictures of German traffic signs from the web and use your model to predict the traffic sign type.\n",
    "\n",
    "`signnames.csv`contains mappings from the class id (integer) to the actual sign name."
   ]
  },
  {
   "cell_type": "markdown",
   "metadata": {},
   "source": [
    "### Load and Output the Images"
   ]
  },
  {
   "cell_type": "code",
   "execution_count": 12,
   "metadata": {},
   "outputs": [
    {
     "data": {
      "image/png": "[encoded data removed]",
      "text/plain": [
       "<matplotlib.figure.Figure at 0x7f6d105d3d68>"
      ]
     },
     "metadata": {
      "needs_background": "light"
     },
     "output_type": "display_data"
    },
    {
     "data": {
      "image/png": "[encoded data removed]",
      "text/plain": [
       "<matplotlib.figure.Figure at 0x7f6d105d39e8>"
      ]
     },
     "metadata": {
      "needs_background": "light"
     },
     "output_type": "display_data"
    },
    {
     "data": {
      "image/png": "[encoded data removed]",
      "text/plain": [
       "<matplotlib.figure.Figure at 0x7f6d4867eda0>"
      ]
     },
     "metadata": {
      "needs_background": "light"
     },
     "output_type": "display_data"
    },
    {
     "data": {
      "image/png": "[encoded data removed]",
      "text/plain": [
       "<matplotlib.figure.Figure at 0x7f6d486418d0>"
      ]
     },
     "metadata": {
      "needs_background": "light"
     },
     "output_type": "display_data"
    },
    {
     "data": {
      "image/png": "[encoded data removed]",
      "text/plain": [
       "<matplotlib.figure.Figure at 0x7f6d48603550>"
      ]
     },
     "metadata": {
      "needs_background": "light"
     },
     "output_type": "display_data"
    }
   ],
   "source": [
    "### Load the images and plot them here.\n",
    "### Feel free to use as many code cells as needed.\n",
    "import glob\n",
    "from PIL import Image\n",
    "from numpy import asarray\n",
    "\n",
    "\n",
    "X_test_new = []\n",
    "files = glob.glob('traffic_signs_web/*.png')\n",
    "files.sort()\n",
    "\n",
    "y_test_new = [26, 29, 11, 9,18]\n",
    "for filename in files: #path of raw images\n",
    "    img = Image.open(filename).resize((32,32))\n",
    "    X_test_new.append(asarray(img))\n",
    "    plt.figure(figsize=(3,3))\n",
    "    plt.imshow(img, cmap=\"gray\")\n",
    "\n",
    "    \n",
    "    "
   ]
  },
  {
   "cell_type": "markdown",
   "metadata": {},
   "source": [
    "### Predict the Sign Type for Each Image and analyze Performance"
   ]
  },
  {
   "cell_type": "code",
   "execution_count": 13,
   "metadata": {},
   "outputs": [
    {
     "name": "stdout",
     "output_type": "stream",
     "text": [
      "(5, 32, 32, 1)\n"
     ]
    }
   ],
   "source": [
    "### Run the predictions here and use the model to output the prediction for each image.\n",
    "### Make sure to pre-process the images with the same pre-processing pipeline used earlier.\n",
    "### Feel free to use as many code cells as needed.\n",
    "X_test_new_pre = preprocessing(X_test_new)\n",
    "print(X_test_new_pre.shape)\n"
   ]
  },
  {
   "cell_type": "code",
   "execution_count": 14,
   "metadata": {},
   "outputs": [
    {
     "name": "stdout",
     "output_type": "stream",
     "text": [
      "INFO:tensorflow:Restoring parameters from ./lenet_traffic_signs\n",
      "Test Accuracy on own images = 0.400\n",
      "Label array =       [26, 29, 11, 9, 18]\n",
      "Prediction array =  [ 4 28 11 12 18]\n"
     ]
    }
   ],
   "source": [
    "### Calculate the accuracy for these 5 new images. \n",
    "### For example, if the model predicted 1 out of 5 signs correctly, it's 20% accurate on these new images.\n",
    "# calc prediction\n",
    "prediction = tf.argmax(logits, 1)\n",
    "\n",
    "with tf.Session() as sess:\n",
    "    saver.restore(sess, './lenet_traffic_signs')\n",
    "    pred = sess.run(prediction, feed_dict={x: X_test_new_pre, y: y_test_new, keeprate: keeprate_valid})\n",
    "    top_5 = sess.run(tf.nn.top_k(softmax_pred, k=5, sorted=True), feed_dict={x: X_test_new_pre, y: y_test_new, keeprate: keeprate_valid})\n",
    "    test_new_accuracy = evaluate(X_test_new_pre, y_test_new)\n",
    "    print(\"Test Accuracy on own images = {:.3f}\".format(test_new_accuracy))\n",
    "    print(\"Label array =      \", y_test_new)\n",
    "    print(\"Prediction array = \", pred)\n",
    "\n"
   ]
  },
  {
   "cell_type": "markdown",
   "metadata": {},
   "source": [
    "### Output Top 5 Softmax Probabilities For Each Image Found on the Web"
   ]
  },
  {
   "cell_type": "markdown",
   "metadata": {},
   "source": [
    "For each of the new images, print out the model's softmax probabilities to show the **certainty** of the model's predictions (limit the output to the top 5 probabilities for each image). [`tf.nn.top_k`](https://www.tensorflow.org/versions/r0.12/api_docs/python/nn.html#top_k) could prove helpful here. \n",
    "\n",
    "The example below demonstrates how tf.nn.top_k can be used to find the top k predictions for each image.\n",
    "\n",
    "`tf.nn.top_k` will return the values and indices (class ids) of the top k predictions. So if k=3, for each sign, it'll return the 3 largest probabilities (out of a possible 43) and the correspoding class ids.\n",
    "\n",
    "Take this numpy array as an example. The values in the array represent predictions. The array contains softmax probabilities for five candidate images with six possible classes. `tf.nn.top_k` is used to choose the three classes with the highest probability:\n",
    "\n",
    "```\n",
    "# (5, 6) array\n",
    "a = np.array([[ 0.24879643,  0.07032244,  0.12641572,  0.34763842,  0.07893497,\n",
    "         0.12789202],\n",
    "       [ 0.28086119,  0.27569815,  0.08594638,  0.0178669 ,  0.18063401,\n",
    "         0.15899337],\n",
    "       [ 0.26076848,  0.23664738,  0.08020603,  0.07001922,  0.1134371 ,\n",
    "         0.23892179],\n",
    "       [ 0.11943333,  0.29198961,  0.02605103,  0.26234032,  0.1351348 ,\n",
    "         0.16505091],\n",
    "       [ 0.09561176,  0.34396535,  0.0643941 ,  0.16240774,  0.24206137,\n",
    "         0.09155967]])\n",
    "```\n",
    "\n",
    "Running it through `sess.run(tf.nn.top_k(tf.constant(a), k=3))` produces:\n",
    "\n",
    "```\n",
    "TopKV2(values=array([[ 0.34763842,  0.24879643,  0.12789202],\n",
    "       [ 0.28086119,  0.27569815,  0.18063401],\n",
    "       [ 0.26076848,  0.23892179,  0.23664738],\n",
    "       [ 0.29198961,  0.26234032,  0.16505091],\n",
    "       [ 0.34396535,  0.24206137,  0.16240774]]), indices=array([[3, 0, 5],\n",
    "       [0, 1, 4],\n",
    "       [0, 5, 1],\n",
    "       [1, 3, 5],\n",
    "       [1, 4, 3]], dtype=int32))\n",
    "```\n",
    "\n",
    "Looking just at the first row we get `[ 0.34763842,  0.24879643,  0.12789202]`, you can confirm these are the 3 largest probabilities in `a`. You'll also notice `[3, 0, 5]` are the corresponding indices."
   ]
  },
  {
   "cell_type": "code",
   "execution_count": 15,
   "metadata": {},
   "outputs": [
    {
     "name": "stdout",
     "output_type": "stream",
     "text": [
      "image  1 : \n",
      "Label  26\n",
      "Softmax probabilities:  [  9.82068598e-01   1.43803805e-02   3.08792223e-03   3.40829225e-04\n",
      "   5.01229006e-05]\n",
      "Classification index:  [ 4 33 18  5  1]\n",
      "image  2 : \n",
      "Label  29\n",
      "Softmax probabilities:  [ 0.93166965  0.0329752   0.01584075  0.01123512  0.00571061]\n",
      "Classification index:  [28 35 29  9  3]\n",
      "image  3 : \n",
      "Label  11\n",
      "Softmax probabilities:  [  1.00000000e+00   4.02408453e-08   1.09306386e-09   3.25290628e-10\n",
      "   3.59580594e-11]\n",
      "Classification index:  [11 30 21 27 18]\n",
      "image  4 : \n",
      "Label  9\n",
      "Softmax probabilities:  [ 0.6566475   0.15907826  0.06669778  0.03917014  0.01327311]\n",
      "Classification index:  [12 11  2 40 30]\n",
      "image  5 : \n",
      "Label  18\n",
      "Softmax probabilities:  [  9.90043402e-01   8.00809357e-03   8.70159885e-04   7.21848977e-04\n",
      "   2.55006395e-04]\n",
      "Classification index:  [18  1 12 14 38]\n"
     ]
    }
   ],
   "source": [
    "### Print out the top five softmax probabilities for the predictions on the German traffic sign images found on the web. \n",
    "\n",
    "for i in range(len(X_test_new)):    \n",
    "    print(\"image \",i+1,\": \")\n",
    "    print(\"Label \", y_test_new[i])\n",
    "    print(\"Softmax probabilities: \", top_5[0][i])\n",
    "    print(\"Classification index: \", top_5[1][i])\n",
    "    \n",
    "\n",
    "\n"
   ]
  }
 ],
 "metadata": {
  "anaconda-cloud": {},
  "kernelspec": {
   "display_name": "Python 3",
   "language": "python",
   "name": "python3"
  },
  "language_info": {
   "codemirror_mode": {
    "name": "ipython",
    "version": 3
   },
   "file_extension": ".py",
   "mimetype": "text/x-python",
   "name": "python",
   "nbconvert_exporter": "python",
   "pygments_lexer": "ipython3",
   "version": "3.6.3"
  }
 },
 "nbformat": 4,
 "nbformat_minor": 1
}
